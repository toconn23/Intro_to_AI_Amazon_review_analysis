{
 "cells": [
  {
   "cell_type": "code",
   "execution_count": 16,
   "metadata": {},
   "outputs": [],
   "source": [
    "#import necessary packages\n",
    "import pandas as pd\n",
    "import nltk\n",
    "from nltk.corpus import stopwords\n",
    "from nltk.stem import PorterStemmer\n",
    "from sklearn.model_selection import train_test_split\n",
    "\n",
    "#load datafram\n",
    "df = pd.read_csv(\"Reviews.csv\")"
   ]
  },
  {
   "cell_type": "markdown",
   "metadata": {},
   "source": [
    "### Get the overall sentiment of the data"
   ]
  },
  {
   "cell_type": "code",
   "execution_count": 17,
   "metadata": {},
   "outputs": [],
   "source": [
    "# df['sentiment'] = df['Score'].apply(lambda score: 'positive' if score > 3 else ('neutral' if score == 3 else 'negative'))\n",
    "df['sentiment'] = df['Score'].apply(lambda score: \n",
    "    'very negative' if score == 1 else\n",
    "    'negative' if score == 2 else\n",
    "    'neutral' if score == 3 else\n",
    "    'positive' if score == 4 else\n",
    "    'very positive' if score == 5 else 'unknown'\n",
    ")\n"
   ]
  },
  {
   "cell_type": "markdown",
   "metadata": {},
   "source": [
    "### Preproccess the text"
   ]
  },
  {
   "cell_type": "code",
   "execution_count": 18,
   "metadata": {},
   "outputs": [
    {
     "name": "stderr",
     "output_type": "stream",
     "text": [
      "[nltk_data] Downloading package stopwords to C:\\Users\\Tom\n",
      "[nltk_data]     O'Connor\\AppData\\Roaming\\nltk_data...\n",
      "[nltk_data]   Package stopwords is already up-to-date!\n"
     ]
    }
   ],
   "source": [
    "# Download NLTK stopwords and initialize the stemmer\n",
    "nltk.download('stopwords')\n",
    "stop_words = set(stopwords.words('english'))\n",
    "stemmer = PorterStemmer()\n",
    "\n",
    "def preprocess_text(text):\n",
    "    if isinstance(text, str) and len(text) > 0:\n",
    "        text = text.lower()\n",
    "        #tokenize the text\n",
    "        tokens = nltk.word_tokenize(text, preserve_line=True)\n",
    "        tokens = [word for word in tokens if word.isalnum()]\n",
    "        #remove stop words and apply the stemmer\n",
    "        tokens = [stemmer.stem(word) for word in tokens if word not in stop_words]\n",
    "        # Join tokens back into a string\n",
    "        text = ' '.join(tokens)\n",
    "        \n",
    "        return text\n",
    "    else:\n",
    "        return \"\""
   ]
  },
  {
   "cell_type": "code",
   "execution_count": 19,
   "metadata": {},
   "outputs": [],
   "source": [
    "import os\n",
    "from tqdm import tqdm\n",
    "if os.path.exists('cleaned_dataframe.csv'):\n",
    "    df = pd.read_csv('cleaned_dataframe.csv')\n",
    "else:\n",
    "    tqdm.pandas()\n",
    "    #apply preprocessing to text\n",
    "    df['cleaned_reviews'] = df['Text'].progress_apply(preprocess_text)\n",
    "    df.to_csv('cleaned_dataframe.csv', index=False)\n"
   ]
  },
  {
   "cell_type": "code",
   "execution_count": 20,
   "metadata": {},
   "outputs": [
    {
     "name": "stdout",
     "output_type": "stream",
     "text": [
      "[0 1 1 ... 1 1 1]\n"
     ]
    }
   ],
   "source": [
    "from sklearn.preprocessing import LabelEncoder\n",
    "\n",
    "X = df['cleaned_reviews']\n",
    "y = df['sentiment']\n",
    "\n",
    "#split the data into training and testing data\n",
    "X_train, X_test, y_train, y_test = train_test_split(X, y, test_size=0.2, random_state=42)\n",
    "X_train = X_train.values\n",
    "X_test = X_test.values\n",
    "y_train = y_train.values\n",
    "y_test = y_test.values\n",
    "#turn string labels into integers\n",
    "label_encoder = LabelEncoder()\n",
    "y_train = label_encoder.fit_transform(y_train)\n",
    "y_test = label_encoder.fit_transform(y_test)\n",
    "print(y_train)"
   ]
  },
  {
   "cell_type": "markdown",
   "metadata": {},
   "source": [
    "### Convert the text into numbers"
   ]
  },
  {
   "cell_type": "code",
   "execution_count": 21,
   "metadata": {},
   "outputs": [
    {
     "data": {
      "text/plain": [
       "'cuda'"
      ]
     },
     "execution_count": 21,
     "metadata": {},
     "output_type": "execute_result"
    }
   ],
   "source": [
    "import torch\n",
    "device = 'cuda' if torch.cuda.is_available else 'cpu'\n",
    "device"
   ]
  },
  {
   "cell_type": "markdown",
   "metadata": {},
   "source": [
    "### Make function to randomly sample traininig data to save gpu memory"
   ]
  },
  {
   "cell_type": "code",
   "execution_count": 22,
   "metadata": {},
   "outputs": [],
   "source": [
    "import random\n",
    "import numpy as np\n",
    "from torch.utils.data import TensorDataset\n",
    "from sklearn.feature_extraction.text import TfidfVectorizer\n",
    "def sample_data(X_train, y_train, sample_size=440000):\n",
    "    tfidf_vectorizer = TfidfVectorizer(max_features=5000)  \n",
    "    total_samples = len(X_train)\n",
    "    random_indices = np.random.choice(total_samples, sample_size, replace=False)\n",
    "    X_train_sample = X_train[random_indices]\n",
    "    y_train_sample = y_train[random_indices]\n",
    "    X_train_sample_tfidf = tfidf_vectorizer.fit_transform(X_train_sample)\n",
    "    X_test_tfidf = tfidf_vectorizer.transform(X_test)\n",
    "    return X_train_sample_tfidf, y_train_sample, X_test_tfidf\n"
   ]
  },
  {
   "cell_type": "markdown",
   "metadata": {},
   "source": [
    "### Make model"
   ]
  },
  {
   "cell_type": "code",
   "execution_count": 23,
   "metadata": {},
   "outputs": [],
   "source": [
    "import torch\n",
    "import torch.nn as nn\n",
    "import torch.optim as optim\n",
    "class SentimentAnalysisModel(nn.Module):\n",
    "    def __init__(self, input_size, hidden_size, output_size):\n",
    "        super(SentimentAnalysisModel, self).__init__()\n",
    "        self.layer1 = nn.Linear(input_size, hidden_size)\n",
    "        self.relu = nn.ReLU()\n",
    "        self.layer2 = nn.Linear(hidden_size, output_size)\n",
    "    def forward(self, x):\n",
    "        x = self.layer1(x)\n",
    "        x = self.relu(x)\n",
    "        x = self.layer2(x)\n",
    "        return x\n"
   ]
  },
  {
   "cell_type": "markdown",
   "metadata": {},
   "source": [
    "### Make DataLoader"
   ]
  },
  {
   "cell_type": "code",
   "execution_count": 24,
   "metadata": {},
   "outputs": [],
   "source": [
    "from torch.utils.data import DataLoader, TensorDataset\n",
    "X_train_sample_tfidf, y_train_sample, X_test_tfidf = sample_data(X_train, y_train)\n",
    "train_data = TensorDataset(torch.from_numpy(X_train_sample_tfidf.toarray()).float(), torch.from_numpy(y_train_sample))\n",
    "train_loader = DataLoader(train_data, batch_size=64, shuffle=True)\n",
    "test_data = TensorDataset(torch.from_numpy(X_test_tfidf.toarray()).float(), torch.from_numpy(y_test))\n",
    "test_loader = DataLoader(test_data, batch_size=64, shuffle=False)\n"
   ]
  },
  {
   "cell_type": "code",
   "execution_count": 25,
   "metadata": {},
   "outputs": [],
   "source": [
    "input_size = 5000\n",
    "hidden_size = 128\n",
    "#Make 5 outputs for different star ratings \n",
    "output_size = 5\n",
    "model = SentimentAnalysisModel(input_size, hidden_size, output_size).to(device)\n",
    "loss_fn = nn.CrossEntropyLoss()\n",
    "optimizer = optim.Adam(model.parameters(), lr=0.001)"
   ]
  },
  {
   "cell_type": "markdown",
   "metadata": {},
   "source": [
    "#### Train and test the model"
   ]
  },
  {
   "cell_type": "code",
   "execution_count": 26,
   "metadata": {},
   "outputs": [
    {
     "name": "stdout",
     "output_type": "stream",
     "text": [
      "Epoch [1/10], Train_Loss: 0.2979, Train_Acc: 0.8758, Test_Loss: 0.2594, Test_Acc: 0.8924\n",
      "Epoch [2/10], Train_Loss: 0.2299, Train_Acc: 0.9078, Test_Loss: 0.2340, Test_Acc: 0.9058\n",
      "Epoch [3/10], Train_Loss: 0.1830, Train_Acc: 0.9306, Test_Loss: 0.2262, Test_Acc: 0.9111\n",
      "Epoch [4/10], Train_Loss: 0.1429, Train_Acc: 0.9478, Test_Loss: 0.2314, Test_Acc: 0.9144\n",
      "Epoch [5/10], Train_Loss: 0.1070, Train_Acc: 0.9627, Test_Loss: 0.2433, Test_Acc: 0.9144\n",
      "Epoch [6/10], Train_Loss: 0.0769, Train_Acc: 0.9747, Test_Loss: 0.2690, Test_Acc: 0.9144\n",
      "Epoch [7/10], Train_Loss: 0.0528, Train_Acc: 0.9838, Test_Loss: 0.2980, Test_Acc: 0.9132\n",
      "Epoch [8/10], Train_Loss: 0.0350, Train_Acc: 0.9899, Test_Loss: 0.3356, Test_Acc: 0.9135\n"
     ]
    }
   ],
   "source": [
    "num_epochs = 10\n",
    "for epoch in range(num_epochs):\n",
    "    model.train()\n",
    "    train_loss = 0\n",
    "    train_acc = 0\n",
    "    for batch, (X, y) in enumerate(train_loader):\n",
    "        X, y = X.to(device), y.to(device, dtype=torch.long)\n",
    "        y_pred = model(X)\n",
    "        loss = loss_fn(y_pred, y)\n",
    "        optimizer.zero_grad()\n",
    "        loss.backward()\n",
    "        optimizer.step()\n",
    "        train_loss += loss.item()\n",
    "        y_pred_class = torch.argmax(y_pred, dim=1)\n",
    "        train_acc += (y_pred_class == y).sum().item()/len(y_pred)\n",
    "\n",
    "    model.eval() \n",
    "    # Initialize the loss and accuracy\n",
    "    test_loss, test_acc = 0, 0\n",
    "    with torch.inference_mode():\n",
    "        for batch, (X, y) in enumerate(test_loader):\n",
    "            # Send data to target device\n",
    "            X, y = X.to(device), y.to(device, dtype=torch.long)\n",
    "\n",
    "            # Do the testing steps\n",
    "            test_pred_logits = model(X)\n",
    "\n",
    "            # Sum the loss\n",
    "            loss = loss_fn(test_pred_logits, y)\n",
    "            test_loss += loss.item()\n",
    "\n",
    "            # Sum the accuracy\n",
    "            test_pred_labels = test_pred_logits.argmax(dim=1)\n",
    "            test_acc += ((test_pred_labels == y).sum().item()/len(test_pred_labels))\n",
    "    print(f'Epoch [{epoch+1}/{num_epochs}], Train_Loss: {train_loss/len(train_loader):.4f}, Train_Acc: {train_acc/len(train_loader):.4f}, Test_Loss: {test_loss/len(test_loader):.4f}, Test_Acc: {test_acc/len(test_loader):.4f}')\n"
   ]
  }
 ],
 "metadata": {
  "kernelspec": {
   "display_name": "Python 3",
   "language": "python",
   "name": "python3"
  },
  "language_info": {
   "codemirror_mode": {
    "name": "ipython",
    "version": 3
   },
   "file_extension": ".py",
   "mimetype": "text/x-python",
   "name": "python",
   "nbconvert_exporter": "python",
   "pygments_lexer": "ipython3",
   "version": "3.10.11"
  }
 },
 "nbformat": 4,
 "nbformat_minor": 2
}
